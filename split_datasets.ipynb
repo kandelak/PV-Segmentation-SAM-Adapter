{
 "cells": [
  {
   "cell_type": "code",
   "execution_count": 1,
   "metadata": {},
   "outputs": [],
   "source": [
    "import torch.utils.data as data\n",
    "import torch\n",
    "images_path = \"/home/kandelaki/bt/data_20/preprocessed/1024/split/images_preprocessed_split\"\n",
    "labels_path = \"/home/kandelaki/bt/data_20/preprocessed/1024/split/masks_preprocessed_split\"\n",
    "from datasets.image_folder import PairedImageFolders"
   ]
  },
  {
   "cell_type": "code",
   "execution_count": 2,
   "metadata": {},
   "outputs": [
    {
     "name": "stderr",
     "output_type": "stream",
     "text": [
      "/home/kandelaki/miniconda3/envs/sam-adapter/lib/python3.8/site-packages/torchvision/transforms/transforms.py:332: UserWarning: Argument 'interpolation' of type int is deprecated since 0.13 and will be removed in 0.15. Please use InterpolationMode enum.\n",
      "  warnings.warn(\n"
     ]
    }
   ],
   "source": [
    "paired_folders = PairedImageFolders(images_path, labels_path)\n",
    "\n",
    "# Same generator for both image and label folders\n",
    "generator1 = torch.Generator().manual_seed(42)"
   ]
  },
  {
   "cell_type": "code",
   "execution_count": 16,
   "metadata": {},
   "outputs": [],
   "source": [
    "import math\n",
    "dataset_size = len(paired_folders)\n",
    "train_cnt, eval_cnt, test_cnt =  (int(dataset_size * 0.8), int(dataset_size * 0.1), int(dataset_size * 0.1))\n",
    "\n",
    "train, eval, test = data.random_split(paired_folders, [train_cnt, eval_cnt, test_cnt], generator=generator1)"
   ]
  },
  {
   "cell_type": "code",
   "execution_count": 21,
   "metadata": {},
   "outputs": [],
   "source": [
    "# Save the splits into folders as png images\n",
    "import os\n",
    "from PIL import Image\n",
    "import numpy as np\n",
    "def save_split(split, split_name):\n",
    "    images_path = f\"/home/kandelaki/bt/data_20/preprocessed/1024/split/{split_name}/img\"\n",
    "    labels_path = f\"/home/kandelaki/bt/data_20/preprocessed/1024/split/{split_name}/masks\"\n",
    "    os.makedirs(images_path, exist_ok=True)\n",
    "    os.makedirs(labels_path, exist_ok=True)\n",
    "    for i, (image, label) in enumerate(split):\n",
    "        image.save(f\"{images_path}/{i}.png\")\n",
    "        label.save(f\"{labels_path}/{i}.png\")\n",
    "\n",
    "save_split(train, \"train\")\n",
    "save_split(eval, \"eval\")\n",
    "save_split(test, \"test\")\n"
   ]
  }
 ],
 "metadata": {
  "kernelspec": {
   "display_name": "sam-adapter",
   "language": "python",
   "name": "python3"
  },
  "language_info": {
   "codemirror_mode": {
    "name": "ipython",
    "version": 3
   },
   "file_extension": ".py",
   "mimetype": "text/x-python",
   "name": "python",
   "nbconvert_exporter": "python",
   "pygments_lexer": "ipython3",
   "version": "3.8.18"
  }
 },
 "nbformat": 4,
 "nbformat_minor": 2
}
